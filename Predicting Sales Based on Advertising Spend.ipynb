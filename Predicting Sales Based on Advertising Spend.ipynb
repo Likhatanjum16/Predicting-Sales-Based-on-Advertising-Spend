{
 "cells": [
  {
   "cell_type": "markdown",
   "id": "5c6e3557-1af0-45b0-bddd-187418ecc3be",
   "metadata": {},
   "source": [
    "# Project Problem Statement:"
   ]
  },
  {
   "cell_type": "markdown",
   "id": "ff66cc54-d134-4914-9625-1df4ab8a8837",
   "metadata": {},
   "source": [
    "## Predicting Sales Based on Advertising Spend\n"
   ]
  },
  {
   "cell_type": "markdown",
   "id": "09d70bfe-6a63-4c4f-8207-234b899696bd",
   "metadata": {},
   "source": [
    "# Problem Description:"
   ]
  },
  {
   "cell_type": "markdown",
   "id": "77e2be21-6047-4cf8-aeea-287ef44307e5",
   "metadata": {},
   "source": [
    "In today's competitive market, companies are constantly looking for ways to optimize their advertising budgets to maximize sales,Understanding the relationship between advertising expenditure across various media channels and sales performance is crucial for making informed  marketing decisions.This dataset contains data on advertising expenditures across three channels: TV, Radio, and Newspaper, along with the resulting sales figures.\n"
   ]
  },
  {
   "cell_type": "markdown",
   "id": "90087753-4999-4b40-bca2-52f741e13822",
   "metadata": {},
   "source": [
    "## Objective:"
   ]
  },
  {
   "cell_type": "markdown",
   "id": "a79da4d3-b19c-4bc2-a403-ab4b86e8ed12",
   "metadata": {},
   "source": [
    "The objective of this analysis is to build a predictive model that can accurately forecast sales based on the amount of money spent on TV, Radio, and Newspaper advertisements. This model will help in understanding the impact of each advertising channel on sales and in making strategic decisions regarding budget allocation to maximize sales.\n"
   ]
  },
  {
   "cell_type": "markdown",
   "id": "e9330b9e-fe24-4115-b0b6-da5f21e1ec48",
   "metadata": {},
   "source": [
    "# Dataset:"
   ]
  },
  {
   "cell_type": "markdown",
   "id": "9317e8ee-072c-46a4-add6-a3226be37b8c",
   "metadata": {},
   "source": [
    "# advertising dataset ->"
   ]
  },
  {
   "cell_type": "markdown",
   "id": "3b531c6a-845c-4696-b041-86b5bcd96fd2",
   "metadata": {},
   "source": [
    "### The dataset consists of the following columns:\n",
    "##### TV: Amount of money spent on TV advertising (in thousands of dollars).\n",
    "##### Radio: Amount of money spent on Radio advertising (in thousands of dollars).\n",
    "##### Newspaper: Amount of money spent on Newspaper advertising (in thousands of dollars).\n",
    "##### Sales: Sales of the product (in thousands of units).\n"
   ]
  },
  {
   "cell_type": "markdown",
   "id": "57adf464-c464-4084-8ab9-8016cd18c82c",
   "metadata": {},
   "source": [
    "# 1.Data Understanding"
   ]
  },
  {
   "cell_type": "markdown",
   "id": "805dd59f-8a72-46f8-b995-2b92a4a7b407",
   "metadata": {},
   "source": [
    "### Importing the some libraries as Pandas,Seaborn and Matplotlib library"
   ]
  },
  {
   "cell_type": "code",
   "execution_count": 20,
   "id": "e4692a7d-146e-437d-85af-84f5ec8335fe",
   "metadata": {},
   "outputs": [],
   "source": [
    "import pandas as pd\n",
    "import seaborn as sns\n",
    "import matplotlib.pyplot as plt"
   ]
  },
  {
   "cell_type": "markdown",
   "id": "9fba75d3-2824-477d-a3b3-03e729a471fa",
   "metadata": {},
   "source": [
    "### Here,Importing the advertising dataset"
   ]
  },
  {
   "cell_type": "code",
   "execution_count": 21,
   "id": "4ab9e2f5-e119-4b41-865d-44b903a0071b",
   "metadata": {},
   "outputs": [
    {
     "data": {
      "text/html": [
       "<div>\n",
       "<style scoped>\n",
       "    .dataframe tbody tr th:only-of-type {\n",
       "        vertical-align: middle;\n",
       "    }\n",
       "\n",
       "    .dataframe tbody tr th {\n",
       "        vertical-align: top;\n",
       "    }\n",
       "\n",
       "    .dataframe thead th {\n",
       "        text-align: right;\n",
       "    }\n",
       "</style>\n",
       "<table border=\"1\" class=\"dataframe\">\n",
       "  <thead>\n",
       "    <tr style=\"text-align: right;\">\n",
       "      <th></th>\n",
       "      <th>TV</th>\n",
       "      <th>Radio</th>\n",
       "      <th>Newspaper</th>\n",
       "      <th>Sales</th>\n",
       "    </tr>\n",
       "  </thead>\n",
       "  <tbody>\n",
       "    <tr>\n",
       "      <th>0</th>\n",
       "      <td>230.1</td>\n",
       "      <td>37.8</td>\n",
       "      <td>69.2</td>\n",
       "      <td>22.1</td>\n",
       "    </tr>\n",
       "    <tr>\n",
       "      <th>1</th>\n",
       "      <td>44.5</td>\n",
       "      <td>39.3</td>\n",
       "      <td>45.1</td>\n",
       "      <td>10.4</td>\n",
       "    </tr>\n",
       "    <tr>\n",
       "      <th>2</th>\n",
       "      <td>17.2</td>\n",
       "      <td>45.9</td>\n",
       "      <td>69.3</td>\n",
       "      <td>12.0</td>\n",
       "    </tr>\n",
       "    <tr>\n",
       "      <th>3</th>\n",
       "      <td>151.5</td>\n",
       "      <td>41.3</td>\n",
       "      <td>58.5</td>\n",
       "      <td>16.5</td>\n",
       "    </tr>\n",
       "    <tr>\n",
       "      <th>4</th>\n",
       "      <td>180.8</td>\n",
       "      <td>10.8</td>\n",
       "      <td>58.4</td>\n",
       "      <td>17.9</td>\n",
       "    </tr>\n",
       "    <tr>\n",
       "      <th>...</th>\n",
       "      <td>...</td>\n",
       "      <td>...</td>\n",
       "      <td>...</td>\n",
       "      <td>...</td>\n",
       "    </tr>\n",
       "    <tr>\n",
       "      <th>195</th>\n",
       "      <td>38.2</td>\n",
       "      <td>3.7</td>\n",
       "      <td>13.8</td>\n",
       "      <td>7.6</td>\n",
       "    </tr>\n",
       "    <tr>\n",
       "      <th>196</th>\n",
       "      <td>94.2</td>\n",
       "      <td>4.9</td>\n",
       "      <td>8.1</td>\n",
       "      <td>14.0</td>\n",
       "    </tr>\n",
       "    <tr>\n",
       "      <th>197</th>\n",
       "      <td>177.0</td>\n",
       "      <td>9.3</td>\n",
       "      <td>6.4</td>\n",
       "      <td>14.8</td>\n",
       "    </tr>\n",
       "    <tr>\n",
       "      <th>198</th>\n",
       "      <td>283.6</td>\n",
       "      <td>42.0</td>\n",
       "      <td>66.2</td>\n",
       "      <td>25.5</td>\n",
       "    </tr>\n",
       "    <tr>\n",
       "      <th>199</th>\n",
       "      <td>232.1</td>\n",
       "      <td>8.6</td>\n",
       "      <td>8.7</td>\n",
       "      <td>18.4</td>\n",
       "    </tr>\n",
       "  </tbody>\n",
       "</table>\n",
       "<p>200 rows × 4 columns</p>\n",
       "</div>"
      ],
      "text/plain": [
       "        TV  Radio  Newspaper  Sales\n",
       "0    230.1   37.8       69.2   22.1\n",
       "1     44.5   39.3       45.1   10.4\n",
       "2     17.2   45.9       69.3   12.0\n",
       "3    151.5   41.3       58.5   16.5\n",
       "4    180.8   10.8       58.4   17.9\n",
       "..     ...    ...        ...    ...\n",
       "195   38.2    3.7       13.8    7.6\n",
       "196   94.2    4.9        8.1   14.0\n",
       "197  177.0    9.3        6.4   14.8\n",
       "198  283.6   42.0       66.2   25.5\n",
       "199  232.1    8.6        8.7   18.4\n",
       "\n",
       "[200 rows x 4 columns]"
      ]
     },
     "execution_count": 21,
     "metadata": {},
     "output_type": "execute_result"
    }
   ],
   "source": [
    "ads_data=pd.read_csv(\"advertising.csv\")\n",
    "ads_data"
   ]
  },
  {
   "cell_type": "markdown",
   "id": "13c41e0b-884a-46a5-bdb3-12f510fb76ed",
   "metadata": {},
   "source": [
    "### 1.How many data points are there in the dataset?\n"
   ]
  },
  {
   "cell_type": "code",
   "execution_count": 9,
   "id": "bd7748e5-77be-40ef-a207-31c37f6e0bfc",
   "metadata": {},
   "outputs": [
    {
     "data": {
      "text/plain": [
       "(200, 4)"
      ]
     },
     "execution_count": 9,
     "metadata": {},
     "output_type": "execute_result"
    }
   ],
   "source": [
    "ads_data.shape"
   ]
  },
  {
   "cell_type": "code",
   "execution_count": 11,
   "id": "82598625-5b09-49b9-ac81-0ce5a3cc4b1f",
   "metadata": {},
   "outputs": [
    {
     "name": "stdout",
     "output_type": "stream",
     "text": [
      "<class 'pandas.core.frame.DataFrame'>\n",
      "RangeIndex: 200 entries, 0 to 199\n",
      "Data columns (total 4 columns):\n",
      " #   Column     Non-Null Count  Dtype  \n",
      "---  ------     --------------  -----  \n",
      " 0   TV         200 non-null    float64\n",
      " 1   Radio      200 non-null    float64\n",
      " 2   Newspaper  200 non-null    float64\n",
      " 3   Sales      200 non-null    float64\n",
      "dtypes: float64(4)\n",
      "memory usage: 6.4 KB\n"
     ]
    }
   ],
   "source": [
    "ads_data.info()"
   ]
  },
  {
   "cell_type": "markdown",
   "id": "8479237d-e5bb-448b-9752-dc56249ce023",
   "metadata": {},
   "source": [
    "# 2.Initial Check Up"
   ]
  },
  {
   "cell_type": "code",
   "execution_count": 17,
   "id": "8e103d54-3b26-4fa4-934a-93dc0d910dee",
   "metadata": {},
   "outputs": [
    {
     "data": {
      "text/html": [
       "<div>\n",
       "<style scoped>\n",
       "    .dataframe tbody tr th:only-of-type {\n",
       "        vertical-align: middle;\n",
       "    }\n",
       "\n",
       "    .dataframe tbody tr th {\n",
       "        vertical-align: top;\n",
       "    }\n",
       "\n",
       "    .dataframe thead th {\n",
       "        text-align: right;\n",
       "    }\n",
       "</style>\n",
       "<table border=\"1\" class=\"dataframe\">\n",
       "  <thead>\n",
       "    <tr style=\"text-align: right;\">\n",
       "      <th></th>\n",
       "      <th>TV</th>\n",
       "      <th>Radio</th>\n",
       "      <th>Newspaper</th>\n",
       "      <th>Sales</th>\n",
       "    </tr>\n",
       "  </thead>\n",
       "  <tbody>\n",
       "    <tr>\n",
       "      <th>0</th>\n",
       "      <td>230.1</td>\n",
       "      <td>37.8</td>\n",
       "      <td>69.2</td>\n",
       "      <td>22.1</td>\n",
       "    </tr>\n",
       "    <tr>\n",
       "      <th>1</th>\n",
       "      <td>44.5</td>\n",
       "      <td>39.3</td>\n",
       "      <td>45.1</td>\n",
       "      <td>10.4</td>\n",
       "    </tr>\n",
       "    <tr>\n",
       "      <th>2</th>\n",
       "      <td>17.2</td>\n",
       "      <td>45.9</td>\n",
       "      <td>69.3</td>\n",
       "      <td>12.0</td>\n",
       "    </tr>\n",
       "    <tr>\n",
       "      <th>3</th>\n",
       "      <td>151.5</td>\n",
       "      <td>41.3</td>\n",
       "      <td>58.5</td>\n",
       "      <td>16.5</td>\n",
       "    </tr>\n",
       "    <tr>\n",
       "      <th>4</th>\n",
       "      <td>180.8</td>\n",
       "      <td>10.8</td>\n",
       "      <td>58.4</td>\n",
       "      <td>17.9</td>\n",
       "    </tr>\n",
       "  </tbody>\n",
       "</table>\n",
       "</div>"
      ],
      "text/plain": [
       "      TV  Radio  Newspaper  Sales\n",
       "0  230.1   37.8       69.2   22.1\n",
       "1   44.5   39.3       45.1   10.4\n",
       "2   17.2   45.9       69.3   12.0\n",
       "3  151.5   41.3       58.5   16.5\n",
       "4  180.8   10.8       58.4   17.9"
      ]
     },
     "execution_count": 17,
     "metadata": {},
     "output_type": "execute_result"
    }
   ],
   "source": [
    "# head() denotes  to take default of first 5 rows\n",
    "ads_data.head()"
   ]
  },
  {
   "cell_type": "code",
   "execution_count": 19,
   "id": "70d63548-c710-4c23-8216-b368c35e2d90",
   "metadata": {},
   "outputs": [
    {
     "data": {
      "text/html": [
       "<div>\n",
       "<style scoped>\n",
       "    .dataframe tbody tr th:only-of-type {\n",
       "        vertical-align: middle;\n",
       "    }\n",
       "\n",
       "    .dataframe tbody tr th {\n",
       "        vertical-align: top;\n",
       "    }\n",
       "\n",
       "    .dataframe thead th {\n",
       "        text-align: right;\n",
       "    }\n",
       "</style>\n",
       "<table border=\"1\" class=\"dataframe\">\n",
       "  <thead>\n",
       "    <tr style=\"text-align: right;\">\n",
       "      <th></th>\n",
       "      <th>TV</th>\n",
       "      <th>Radio</th>\n",
       "      <th>Newspaper</th>\n",
       "      <th>Sales</th>\n",
       "    </tr>\n",
       "  </thead>\n",
       "  <tbody>\n",
       "    <tr>\n",
       "      <th>195</th>\n",
       "      <td>38.2</td>\n",
       "      <td>3.7</td>\n",
       "      <td>13.8</td>\n",
       "      <td>7.6</td>\n",
       "    </tr>\n",
       "    <tr>\n",
       "      <th>196</th>\n",
       "      <td>94.2</td>\n",
       "      <td>4.9</td>\n",
       "      <td>8.1</td>\n",
       "      <td>14.0</td>\n",
       "    </tr>\n",
       "    <tr>\n",
       "      <th>197</th>\n",
       "      <td>177.0</td>\n",
       "      <td>9.3</td>\n",
       "      <td>6.4</td>\n",
       "      <td>14.8</td>\n",
       "    </tr>\n",
       "    <tr>\n",
       "      <th>198</th>\n",
       "      <td>283.6</td>\n",
       "      <td>42.0</td>\n",
       "      <td>66.2</td>\n",
       "      <td>25.5</td>\n",
       "    </tr>\n",
       "    <tr>\n",
       "      <th>199</th>\n",
       "      <td>232.1</td>\n",
       "      <td>8.6</td>\n",
       "      <td>8.7</td>\n",
       "      <td>18.4</td>\n",
       "    </tr>\n",
       "  </tbody>\n",
       "</table>\n",
       "</div>"
      ],
      "text/plain": [
       "        TV  Radio  Newspaper  Sales\n",
       "195   38.2    3.7       13.8    7.6\n",
       "196   94.2    4.9        8.1   14.0\n",
       "197  177.0    9.3        6.4   14.8\n",
       "198  283.6   42.0       66.2   25.5\n",
       "199  232.1    8.6        8.7   18.4"
      ]
     },
     "execution_count": 19,
     "metadata": {},
     "output_type": "execute_result"
    }
   ],
   "source": [
    "# tail() denotes  to take default of last 5 rows\n",
    "ads_data.tail()"
   ]
  },
  {
   "cell_type": "markdown",
   "id": "3b27aa74-e4ea-49a1-94c8-5ce441d1f854",
   "metadata": {},
   "source": [
    "### 2.Are there any missing values in the dataset?\n"
   ]
  },
  {
   "cell_type": "code",
   "execution_count": 177,
   "id": "59eb39df-576a-4ffb-9d40-7e6986f74b84",
   "metadata": {},
   "outputs": [
    {
     "name": "stdout",
     "output_type": "stream",
     "text": [
      "TV           0\n",
      "Radio        0\n",
      "Newspaper    0\n",
      "Sales        0\n",
      "dtype: int64\n"
     ]
    }
   ],
   "source": [
    "# To check whether the missing values are there or not.\n",
    "print(ads_data.isnull().sum())"
   ]
  },
  {
   "cell_type": "markdown",
   "id": "7dcb5313-bf99-44b8-8f46-296ffc200cf6",
   "metadata": {},
   "source": [
    "# 3.Asking Questions to data\n"
   ]
  },
  {
   "cell_type": "markdown",
   "id": "a75f29ff-4e86-4bdd-bf31-b9e428e0d622",
   "metadata": {},
   "source": [
    "###### 1.How many data points are there in the dataset?\n",
    "###### 2.Are there any missing values in the dataset? \n",
    "###### 3.What are the mean and median sales in the dataset?\n",
    "###### 4.What are the mean and median TV in the dataset?\n",
    "###### 5.What are the mean and median Radio in the dataset?\n",
    "###### 6.What are the mean and median Newspaper in the dataset?\n",
    "###### 7.What is the range of newspaper advertising expenditure in the dataset?\n",
    "###### 8.What is the range of radio advertising expenditure in the dataset?\n",
    "###### 9.What is the range of TV advertising expenditure in the dataset?\n",
    "###### 10.What type of plot shows the relationship between TV advertising and sales?\n",
    "###### 11.What type of plot shows the distribution of radio advertising expenditure?\n",
    "###### 12.What type of plot identifies outliers in newspaper advertising expenditure?\n",
    "###### 13.What is the average amount of money spent on TV advertising?\n",
    "###### 14.What is the maximum amount of money spent on Radio advertising?\n",
    "###### 15.What is the minimum amount of money spent on Newspaper advertising?\n",
    "###### 16.What are the mean absolute error, mean squared error, and R-squared values of the model?\n"
   ]
  },
  {
   "cell_type": "markdown",
   "id": "8c705f35-6e15-484c-b402-d75abf072fa1",
   "metadata": {},
   "source": [
    "# 4.Exploring the Data Analysis(EDA)"
   ]
  },
  {
   "cell_type": "code",
   "execution_count": 1,
   "id": "c1ce2151-de22-4569-9d80-e12037ad7369",
   "metadata": {},
   "outputs": [],
   "source": [
    "import numpy as np\n",
    "import pandas as pd \n",
    "from matplotlib import pyplot as plt \n",
    "import seaborn as sns\n",
    "%matplotlib inline\n",
    "\n",
    "import warnings \n",
    "\n",
    "#Ignore all warnings \n",
    "warnings.filterwarnings(\"ignore\")"
   ]
  },
  {
   "cell_type": "markdown",
   "id": "9eed458e-f580-4e93-b674-00ac2a129041",
   "metadata": {},
   "source": [
    "## *.Visualization\n",
    "Scatter plots of each advertising channel (TV, Radio, Newspaper) against Sales,\n",
    "Histograms showing the distribution of expenditures on TV, Radio, Newspaper advertising, and Sales,\r",
    "Box plots to identify potential outliers in each variable.\r\n",
    "#### Histogram plots are univariate analysis\n",
    "#### Scatterplots are Bivariate analysis\r\n"
   ]
  },
  {
   "cell_type": "markdown",
   "id": "bfe6675e-baf0-4aa3-9efe-55d3a722ac33",
   "metadata": {},
   "source": [
    "## 1.Visualization of TV"
   ]
  },
  {
   "cell_type": "markdown",
   "id": "bbdc14ba-0d92-4b58-b7e8-7e5ca9880333",
   "metadata": {},
   "source": [
    "#### 10.What type of plot shows the relationship between TV advertising and sales?\n"
   ]
  },
  {
   "cell_type": "code",
   "execution_count": 32,
   "id": "f9f3a487-f368-4728-91b9-97b8f5498142",
   "metadata": {},
   "outputs": [
    {
     "data": {
      "text/plain": [
       "Text(0.5, 1.0, 'TV Advertising vs Sales')"
      ]
     },
     "execution_count": 32,
     "metadata": {},
     "output_type": "execute_result"
    },
    {
     "data": {
      "image/png": "[encoded data removed]",
      "text/plain": [
       "<Figure size 640x480 with 1 Axes>"
      ]
     },
     "metadata": {},
     "output_type": "display_data"
    }
   ],
   "source": [
    "# TV vs Sales\n",
    "#plt.subplot(1, 3, 1)\n",
    "sns.scatterplot(data=ads_data, x='TV', y='Sales')\n",
    "plt.title('TV Advertising vs Sales')"
   ]
  },
  {
   "cell_type": "markdown",
   "id": "e8ef96aa-3149-4518-a1c9-b020a408ced7",
   "metadata": {},
   "source": [
    "#### 4.What are the mean and median TV in the dataset?¶"
   ]
  },
  {
   "cell_type": "markdown",
   "id": "935b7fa7-d7dd-42dc-87e8-ad37b1abba3c",
   "metadata": {},
   "source": [
    "#### 13.What is the average amount of money spent on TV advertising?\n"
   ]
  },
  {
   "cell_type": "code",
   "execution_count": 24,
   "id": "cbb3a7f7-99bf-4882-a819-72dcba8a2198",
   "metadata": {},
   "outputs": [
    {
     "data": {
      "text/plain": [
       "count    200.000000\n",
       "mean     147.042500\n",
       "std       85.854236\n",
       "min        0.700000\n",
       "25%       74.375000\n",
       "50%      149.750000\n",
       "75%      218.825000\n",
       "max      296.400000\n",
       "Name: TV, dtype: float64"
      ]
     },
     "execution_count": 24,
     "metadata": {},
     "output_type": "execute_result"
    }
   ],
   "source": [
    "ads_data[\"TV\"].describe()"
   ]
  },
  {
   "cell_type": "code",
   "execution_count": 171,
   "id": "c84423d9-8ac8-49ae-a7f4-f61a6bc5ea0a",
   "metadata": {},
   "outputs": [
    {
     "data": {
      "text/plain": [
       "Text(0.5, 1.0, 'Distribution of TV Advertising Expenditure')"
      ]
     },
     "execution_count": 171,
     "metadata": {},
     "output_type": "execute_result"
    },
    {
     "data": {
      "image/png": "[encoded data removed]",
      "text/plain": [
       "<Figure size 640x480 with 1 Axes>"
      ]
     },
     "metadata": {},
     "output_type": "display_data"
    }
   ],
   "source": [
    "#Histogram for TV\n",
    "sns.histplot(ads_data['TV'], bins=20, kde=True)\n",
    "plt.title('Distribution of TV Advertising Expenditure')"
   ]
  },
  {
   "cell_type": "markdown",
   "id": "68577a1c-5df3-4b45-8840-0d7567c3026d",
   "metadata": {},
   "source": [
    "#### 9.What is the range of TV advertising expenditure in the dataset?\n"
   ]
  },
  {
   "cell_type": "code",
   "execution_count": 301,
   "id": "4471ac7a-30b6-4d94-abeb-797819de1444",
   "metadata": {},
   "outputs": [
    {
     "name": "stdout",
     "output_type": "stream",
     "text": [
      "Range of TV advertising expenditure: 295.7\n"
     ]
    }
   ],
   "source": [
    "#Range\n",
    "tv_range = ads_data['TV'].max() - ads_data['TV'].min()\n",
    "print(f\"Range of TV advertising expenditure: {tv_range}\")"
   ]
  },
  {
   "cell_type": "markdown",
   "id": "048de5d5-9cd4-4715-bc5c-575291d14a92",
   "metadata": {},
   "source": [
    "## 2.Visualization of Radio"
   ]
  },
  {
   "cell_type": "markdown",
   "id": "7f00a048-3c88-4e76-b090-917328696d50",
   "metadata": {},
   "source": [
    "#### 11.What type of plot shows the distribution of radio advertising expenditure?\n"
   ]
  },
  {
   "cell_type": "code",
   "execution_count": 163,
   "id": "9af973b8-62d4-4ce5-b0eb-ddb736299355",
   "metadata": {},
   "outputs": [
    {
     "data": {
      "text/plain": [
       "Text(0.5, 1.0, 'Radio Advertising vs Sales')"
      ]
     },
     "execution_count": 163,
     "metadata": {},
     "output_type": "execute_result"
    },
    {
     "data": {
      "image/png": "[encoded data removed]",
      "text/plain": [
       "<Figure size 640x480 with 1 Axes>"
      ]
     },
     "metadata": {},
     "output_type": "display_data"
    }
   ],
   "source": [
    "# Radio vs Sales\n",
    "#plt.figure(figsize=(10, 6))\n",
    "plt.subplot(1, 3, 2)\n",
    "sns.scatterplot(data=ads_data, x='Radio', y='Sales')\n",
    "plt.title('Radio Advertising vs Sales')"
   ]
  },
  {
   "cell_type": "markdown",
   "id": "89b5dbbe-93f4-4d18-84e3-7900d328712f",
   "metadata": {},
   "source": [
    "#### 5.What are the mean and median Radio in the dataset?\n"
   ]
  },
  {
   "cell_type": "markdown",
   "id": "185fa253-9ec7-4c2d-9fd4-3c72a332f4a3",
   "metadata": {},
   "source": [
    "#### 14.What is the maximum amount of money spent on Radio advertising?\n"
   ]
  },
  {
   "cell_type": "code",
   "execution_count": 27,
   "id": "141546c0-9962-48fb-8bf1-6ec361255c9d",
   "metadata": {},
   "outputs": [
    {
     "data": {
      "text/plain": [
       "count    200.000000\n",
       "mean      23.264000\n",
       "std       14.846809\n",
       "min        0.000000\n",
       "25%        9.975000\n",
       "50%       22.900000\n",
       "75%       36.525000\n",
       "max       49.600000\n",
       "Name: Radio, dtype: float64"
      ]
     },
     "execution_count": 27,
     "metadata": {},
     "output_type": "execute_result"
    }
   ],
   "source": [
    "ads_data[\"Radio\"].describe()"
   ]
  },
  {
   "cell_type": "code",
   "execution_count": 142,
   "id": "96e445d1-e8f4-4a93-a4c2-0c4be9eb4d89",
   "metadata": {},
   "outputs": [
    {
     "data": {
      "text/plain": [
       "Text(0.5, 1.0, 'Distribution of Radio Advertising Expenditure')"
      ]
     },
     "execution_count": 142,
     "metadata": {},
     "output_type": "execute_result"
    },
    {
     "data": {
      "image/png": "[encoded data removed]",
      "text/plain": [
       "<Figure size 640x480 with 1 Axes>"
      ]
     },
     "metadata": {},
     "output_type": "display_data"
    }
   ],
   "source": [
    "# Histogram for Radio\n",
    "sns.histplot(ads_data['Radio'], bins=20, kde=True)\n",
    "plt.title('Distribution of Radio Advertising Expenditure')"
   ]
  },
  {
   "cell_type": "markdown",
   "id": "80e9046a-1585-40c1-8c46-81933468a7d3",
   "metadata": {},
   "source": [
    "#### 8.What is the range of radio advertising expenditure in the dataset?\n"
   ]
  },
  {
   "cell_type": "code",
   "execution_count": 299,
   "id": "c19853cb-019f-4c50-9422-5dc8e1182a44",
   "metadata": {},
   "outputs": [
    {
     "name": "stdout",
     "output_type": "stream",
     "text": [
      "Range of radio advertising expenditure: 49.6\n"
     ]
    }
   ],
   "source": [
    "#Range\n",
    "radio_range = ads_data['Radio'].max() - ads_data['Radio'].min()\n",
    "print(f\"Range of radio advertising expenditure: {radio_range}\")"
   ]
  },
  {
   "cell_type": "markdown",
   "id": "c29006b0-8cce-4116-9914-3c82abd35f09",
   "metadata": {},
   "source": [
    "## 3.Visualization of Newspaper"
   ]
  },
  {
   "cell_type": "markdown",
   "id": "7a411e0a-8280-485e-9ebf-08ce1a205206",
   "metadata": {},
   "source": [
    "#### 12.What type of plot identifies outliers in newspaper advertising expenditure?\n"
   ]
  },
  {
   "cell_type": "code",
   "execution_count": 167,
   "id": "333cd563-edad-4044-8f23-49956b3c38b4",
   "metadata": {},
   "outputs": [
    {
     "data": {
      "text/plain": [
       "Text(0.5, 1.0, 'Newspaper Advertising vs Sales')"
      ]
     },
     "execution_count": 167,
     "metadata": {},
     "output_type": "execute_result"
    },
    {
     "data": {
      "image/png": "[encoded data removed]",
      "text/plain": [
       "<Figure size 640x480 with 1 Axes>"
      ]
     },
     "metadata": {},
     "output_type": "display_data"
    }
   ],
   "source": [
    "# Newspaper vs Sales\n",
    "#plt.figure(figsize=(10, 6))\n",
    "plt.subplot(1,3,3)\n",
    "sns.scatterplot(data=ads_data, x='Newspaper', y='Sales')\n",
    "plt.title('Newspaper Advertising vs Sales')\n",
    "plt.show()"
   ]
  },
  {
   "cell_type": "markdown",
   "id": "498fca99-9f58-4a53-8603-2a96fee1a676",
   "metadata": {},
   "source": [
    "#### 6.What are the mean and median Newspaper in the dataset?\n"
   ]
  },
  {
   "cell_type": "markdown",
   "id": "0259aab3-9ccf-49f0-bbcb-4de713a3aeea",
   "metadata": {},
   "source": [
    "#### 15.What is the minimum amount of money spent on Newspaper advertising?\n"
   ]
  },
  {
   "cell_type": "code",
   "execution_count": 30,
   "id": "2f6b6d49-cffb-4a8b-96b0-7d6021378080",
   "metadata": {},
   "outputs": [
    {
     "data": {
      "text/plain": [
       "count    200.000000\n",
       "mean      30.554000\n",
       "std       21.778621\n",
       "min        0.300000\n",
       "25%       12.750000\n",
       "50%       25.750000\n",
       "75%       45.100000\n",
       "max      114.000000\n",
       "Name: Newspaper, dtype: float64"
      ]
     },
     "execution_count": 30,
     "metadata": {},
     "output_type": "execute_result"
    }
   ],
   "source": [
    "ads_data[\"Newspaper\"].describe()"
   ]
  },
  {
   "cell_type": "code",
   "execution_count": 144,
   "id": "b74a685d-ed94-4ac2-b874-875cfa2836cd",
   "metadata": {},
   "outputs": [
    {
     "data": {
      "text/plain": [
       "Text(0.5, 1.0, 'Distribution of Newspaper Advertising Expenditure')"
      ]
     },
     "execution_count": 144,
     "metadata": {},
     "output_type": "execute_result"
    },
    {
     "data": {
      "image/png": "[encoded data removed]",
      "text/plain": [
       "<Figure size 640x480 with 1 Axes>"
      ]
     },
     "metadata": {},
     "output_type": "display_data"
    }
   ],
   "source": [
    "# Histogram for Newspaper\n",
    "sns.histplot(ads_data['Newspaper'], bins=20, kde=True)\n",
    "plt.title('Distribution of Newspaper Advertising Expenditure')"
   ]
  },
  {
   "cell_type": "markdown",
   "id": "cb1256aa-6be4-49d1-bf6c-d05ac109c234",
   "metadata": {},
   "source": [
    "#### 7.What is the range of newspaper advertising expenditure in the dataset?\n"
   ]
  },
  {
   "cell_type": "code",
   "execution_count": 297,
   "id": "7fe9e8cd-008e-4b2c-8693-5f736b3e2eba",
   "metadata": {},
   "outputs": [
    {
     "name": "stdout",
     "output_type": "stream",
     "text": [
      "Range of newspaper advertising expenditure: 113.7\n"
     ]
    }
   ],
   "source": [
    "#Range\n",
    "newspaper_range = ads_data['Newspaper'].max() - ads_data['Newspaper'].min()\n",
    "print(f\"Range of newspaper advertising expenditure: {newspaper_range}\")"
   ]
  },
  {
   "cell_type": "code",
   "execution_count": 129,
   "id": "51a1b24d-afd6-4ed5-a511-87844da13eff",
   "metadata": {},
   "outputs": [
    {
     "data": {
      "text/plain": [
       "Text(0.5, 1.0, 'Box Plot of Newspaper')"
      ]
     },
     "execution_count": 129,
     "metadata": {},
     "output_type": "execute_result"
    },
    {
     "data": {
      "image/png": "[encoded data removed]",
      "text/plain": [
       "<Figure size 640x480 with 1 Axes>"
      ]
     },
     "metadata": {},
     "output_type": "display_data"
    }
   ],
   "source": [
    "# boxplot denotes the mean,median and outliers\n",
    "plt.subplot(2, 2, 4)\n",
    "sns.boxplot(y=ads_data['Newspaper'])\n",
    "plt.title('Box Plot of Newspaper')"
   ]
  },
  {
   "cell_type": "markdown",
   "id": "2396fb55-625e-40ec-922c-36f9c095ecad",
   "metadata": {},
   "source": [
    "## Visualization of Sales"
   ]
  },
  {
   "cell_type": "code",
   "execution_count": 146,
   "id": "49a82a81-9e84-4752-b9ae-de603b704f9b",
   "metadata": {},
   "outputs": [
    {
     "data": {
      "text/plain": [
       "Text(0.5, 1.0, 'Distribution of Sales')"
      ]
     },
     "execution_count": 146,
     "metadata": {},
     "output_type": "execute_result"
    },
    {
     "data": {
      "image/png": "[encoded data removed]",
      "text/plain": [
       "<Figure size 640x480 with 1 Axes>"
      ]
     },
     "metadata": {},
     "output_type": "display_data"
    }
   ],
   "source": [
    "# Histogram for Sales\n",
    "sns.histplot(ads_data['Sales'], bins=20, kde=True)\n",
    "plt.title('Distribution of Sales')"
   ]
  },
  {
   "cell_type": "markdown",
   "id": "08532099-2686-4b43-81a5-59123d58e3dd",
   "metadata": {},
   "source": [
    "#### 3.What are the mean and median sales in the dataset?"
   ]
  },
  {
   "cell_type": "code",
   "execution_count": 35,
   "id": "5a20d037-c249-4380-9439-c1c6dbe0eb59",
   "metadata": {},
   "outputs": [
    {
     "data": {
      "text/plain": [
       "count    200.000000\n",
       "mean      15.130500\n",
       "std        5.283892\n",
       "min        1.600000\n",
       "25%       11.000000\n",
       "50%       16.000000\n",
       "75%       19.050000\n",
       "max       27.000000\n",
       "Name: Sales, dtype: float64"
      ]
     },
     "execution_count": 35,
     "metadata": {},
     "output_type": "execute_result"
    }
   ],
   "source": [
    "ads_data[\"Sales\"].describe()"
   ]
  },
  {
   "cell_type": "code",
   "execution_count": 174,
   "id": "90a01ba3-5b59-4317-9dae-28ab25847c82",
   "metadata": {},
   "outputs": [],
   "source": [
    "#A pair plot to visualize pairwise relationships between all variables in the dataset.\n",
    "#sns.pairplot(ads_data)"
   ]
  },
  {
   "cell_type": "markdown",
   "id": "ea538b83-43f5-4304-b925-b63505555d06",
   "metadata": {},
   "source": [
    "# 5.Machine Learning Approach On Data Preprocessing:\n",
    "Clean the data, handle missing values, and possibly normalize the features.\n",
    "\n"
   ]
  },
  {
   "cell_type": "markdown",
   "id": "3304e41d-b88d-48b1-926e-56f38bc7c5f8",
   "metadata": {},
   "source": [
    "# Supervised Machine learning:\n",
    "The supervised learning algorithms are given labeled training data  to learn the relationship between the input and the output,\n",
    "A category of machine learning that uses labeled datasets to train algorithms to predict outcomes and recognize patterns. \n",
    "\n",
    "## Regression:\n",
    "A supervised machine learning technique which is used to predict continuous values\n",
    "\n",
    "### Simple Linear Regression\n",
    "A regression model that estimates the relationship between one independent variable and one dependent variable using a straight line."
   ]
  },
  {
   "cell_type": "markdown",
   "id": "9c10a9d6-f98f-4e1d-b22d-32a72b98dfc9",
   "metadata": {},
   "source": [
    "The advertising dataset is well-suited for linear regression because the relationship between the independent variables (advertising spend on TV, Radio,\n",
    "and Newspaper) and the dependent variable (sales) can be reasonably approximated as linear.\n"
   ]
  },
  {
   "cell_type": "markdown",
   "id": "15435d1e-3bf4-4ffc-993f-f34ec1879a51",
   "metadata": {},
   "source": [
    "## Correlation\n",
    "The Correlation is a statistical measure that expresses the extent to which two variables are linearly related to each other or not.\n"
   ]
  },
  {
   "cell_type": "code",
   "execution_count": 13,
   "id": "5bf6d0b2-146b-4b07-ab58-f6e84f1c514d",
   "metadata": {},
   "outputs": [
    {
     "data": {
      "text/html": [
       "<div>\n",
       "<style scoped>\n",
       "    .dataframe tbody tr th:only-of-type {\n",
       "        vertical-align: middle;\n",
       "    }\n",
       "\n",
       "    .dataframe tbody tr th {\n",
       "        vertical-align: top;\n",
       "    }\n",
       "\n",
       "    .dataframe thead th {\n",
       "        text-align: right;\n",
       "    }\n",
       "</style>\n",
       "<table border=\"1\" class=\"dataframe\">\n",
       "  <thead>\n",
       "    <tr style=\"text-align: right;\">\n",
       "      <th></th>\n",
       "      <th>TV</th>\n",
       "      <th>Radio</th>\n",
       "      <th>Newspaper</th>\n",
       "      <th>Sales</th>\n",
       "    </tr>\n",
       "  </thead>\n",
       "  <tbody>\n",
       "    <tr>\n",
       "      <th>TV</th>\n",
       "      <td>1.000000</td>\n",
       "      <td>0.054809</td>\n",
       "      <td>0.056648</td>\n",
       "      <td>0.901208</td>\n",
       "    </tr>\n",
       "    <tr>\n",
       "      <th>Radio</th>\n",
       "      <td>0.054809</td>\n",
       "      <td>1.000000</td>\n",
       "      <td>0.354104</td>\n",
       "      <td>0.349631</td>\n",
       "    </tr>\n",
       "    <tr>\n",
       "      <th>Newspaper</th>\n",
       "      <td>0.056648</td>\n",
       "      <td>0.354104</td>\n",
       "      <td>1.000000</td>\n",
       "      <td>0.157960</td>\n",
       "    </tr>\n",
       "    <tr>\n",
       "      <th>Sales</th>\n",
       "      <td>0.901208</td>\n",
       "      <td>0.349631</td>\n",
       "      <td>0.157960</td>\n",
       "      <td>1.000000</td>\n",
       "    </tr>\n",
       "  </tbody>\n",
       "</table>\n",
       "</div>"
      ],
      "text/plain": [
       "                 TV     Radio  Newspaper     Sales\n",
       "TV         1.000000  0.054809   0.056648  0.901208\n",
       "Radio      0.054809  1.000000   0.354104  0.349631\n",
       "Newspaper  0.056648  0.354104   1.000000  0.157960\n",
       "Sales      0.901208  0.349631   0.157960  1.000000"
      ]
     },
     "execution_count": 13,
     "metadata": {},
     "output_type": "execute_result"
    }
   ],
   "source": [
    "ads_data.corr()"
   ]
  },
  {
   "cell_type": "markdown",
   "id": "85ab6c46-77d0-4da9-8eec-eacc859f75b7",
   "metadata": {},
   "source": [
    "# Train and Test\n",
    "### **train_test_split:\n",
    "This code splits the input data (X) and the output data (y) into training and testing sets, with 80% of the data testing (X_test, y_test),\n",
    "It ensuring reproducibility with a specified random seed (random_state=2)."
   ]
  },
  {
   "cell_type": "code",
   "execution_count": 16,
   "id": "e28eabaa-e5be-4c3b-bf22-f6ba12a35b59",
   "metadata": {},
   "outputs": [],
   "source": [
    "from sklearn.model_selection import train_test_split\n"
   ]
  },
  {
   "cell_type": "code",
   "execution_count": 17,
   "id": "b4cee229-8c59-4382-976c-bf40deb0f521",
   "metadata": {},
   "outputs": [],
   "source": [
    "X = ads_data[['TV', 'Radio', 'Newspaper']]\n",
    "y = ads_data['Sales']\n"
   ]
  },
  {
   "cell_type": "code",
   "execution_count": 20,
   "id": "790ae6fe-ae55-4816-97a5-d0ac36f369cf",
   "metadata": {},
   "outputs": [],
   "source": [
    "# Split the data (80% training, 20% testing)\n",
    "X_train, X_test, y_train, y_test = train_test_split(X, y, test_size=0.2, random_state=42)\n"
   ]
  },
  {
   "cell_type": "code",
   "execution_count": 22,
   "id": "e4023748-ecf2-444d-9e41-e3a75c2b0b4e",
   "metadata": {},
   "outputs": [
    {
     "data": {
      "text/html": [
       "<div>\n",
       "<style scoped>\n",
       "    .dataframe tbody tr th:only-of-type {\n",
       "        vertical-align: middle;\n",
       "    }\n",
       "\n",
       "    .dataframe tbody tr th {\n",
       "        vertical-align: top;\n",
       "    }\n",
       "\n",
       "    .dataframe thead th {\n",
       "        text-align: right;\n",
       "    }\n",
       "</style>\n",
       "<table border=\"1\" class=\"dataframe\">\n",
       "  <thead>\n",
       "    <tr style=\"text-align: right;\">\n",
       "      <th></th>\n",
       "      <th>TV</th>\n",
       "      <th>Radio</th>\n",
       "      <th>Newspaper</th>\n",
       "    </tr>\n",
       "  </thead>\n",
       "  <tbody>\n",
       "    <tr>\n",
       "      <th>79</th>\n",
       "      <td>116.0</td>\n",
       "      <td>7.7</td>\n",
       "      <td>23.1</td>\n",
       "    </tr>\n",
       "    <tr>\n",
       "      <th>197</th>\n",
       "      <td>177.0</td>\n",
       "      <td>9.3</td>\n",
       "      <td>6.4</td>\n",
       "    </tr>\n",
       "    <tr>\n",
       "      <th>38</th>\n",
       "      <td>43.1</td>\n",
       "      <td>26.7</td>\n",
       "      <td>35.1</td>\n",
       "    </tr>\n",
       "    <tr>\n",
       "      <th>24</th>\n",
       "      <td>62.3</td>\n",
       "      <td>12.6</td>\n",
       "      <td>18.3</td>\n",
       "    </tr>\n",
       "    <tr>\n",
       "      <th>122</th>\n",
       "      <td>224.0</td>\n",
       "      <td>2.4</td>\n",
       "      <td>15.6</td>\n",
       "    </tr>\n",
       "  </tbody>\n",
       "</table>\n",
       "</div>"
      ],
      "text/plain": [
       "        TV  Radio  Newspaper\n",
       "79   116.0    7.7       23.1\n",
       "197  177.0    9.3        6.4\n",
       "38    43.1   26.7       35.1\n",
       "24    62.3   12.6       18.3\n",
       "122  224.0    2.4       15.6"
      ]
     },
     "execution_count": 22,
     "metadata": {},
     "output_type": "execute_result"
    }
   ],
   "source": [
    "X_train.head()"
   ]
  },
  {
   "cell_type": "code",
   "execution_count": 24,
   "id": "6fa0a74d-0026-494f-82ac-a5fcae77dba5",
   "metadata": {},
   "outputs": [
    {
     "data": {
      "text/plain": [
       "(160, 3)"
      ]
     },
     "execution_count": 24,
     "metadata": {},
     "output_type": "execute_result"
    }
   ],
   "source": [
    "X_train.shape"
   ]
  },
  {
   "cell_type": "code",
   "execution_count": 190,
   "id": "4ba5262d-ef92-415a-995e-6da1e5a4be15",
   "metadata": {},
   "outputs": [
    {
     "data": {
      "text/html": [
       "<div>\n",
       "<style scoped>\n",
       "    .dataframe tbody tr th:only-of-type {\n",
       "        vertical-align: middle;\n",
       "    }\n",
       "\n",
       "    .dataframe tbody tr th {\n",
       "        vertical-align: top;\n",
       "    }\n",
       "\n",
       "    .dataframe thead th {\n",
       "        text-align: right;\n",
       "    }\n",
       "</style>\n",
       "<table border=\"1\" class=\"dataframe\">\n",
       "  <thead>\n",
       "    <tr style=\"text-align: right;\">\n",
       "      <th></th>\n",
       "      <th>TV</th>\n",
       "      <th>Radio</th>\n",
       "      <th>Newspaper</th>\n",
       "    </tr>\n",
       "  </thead>\n",
       "  <tbody>\n",
       "    <tr>\n",
       "      <th>95</th>\n",
       "      <td>163.3</td>\n",
       "      <td>31.6</td>\n",
       "      <td>52.9</td>\n",
       "    </tr>\n",
       "    <tr>\n",
       "      <th>15</th>\n",
       "      <td>195.4</td>\n",
       "      <td>47.7</td>\n",
       "      <td>52.9</td>\n",
       "    </tr>\n",
       "    <tr>\n",
       "      <th>30</th>\n",
       "      <td>292.9</td>\n",
       "      <td>28.3</td>\n",
       "      <td>43.2</td>\n",
       "    </tr>\n",
       "    <tr>\n",
       "      <th>158</th>\n",
       "      <td>11.7</td>\n",
       "      <td>36.9</td>\n",
       "      <td>45.2</td>\n",
       "    </tr>\n",
       "    <tr>\n",
       "      <th>128</th>\n",
       "      <td>220.3</td>\n",
       "      <td>49.0</td>\n",
       "      <td>3.2</td>\n",
       "    </tr>\n",
       "  </tbody>\n",
       "</table>\n",
       "</div>"
      ],
      "text/plain": [
       "        TV  Radio  Newspaper\n",
       "95   163.3   31.6       52.9\n",
       "15   195.4   47.7       52.9\n",
       "30   292.9   28.3       43.2\n",
       "158   11.7   36.9       45.2\n",
       "128  220.3   49.0        3.2"
      ]
     },
     "execution_count": 190,
     "metadata": {},
     "output_type": "execute_result"
    }
   ],
   "source": [
    "X_test.head()"
   ]
  },
  {
   "cell_type": "code",
   "execution_count": 26,
   "id": "9414da60-2d95-4e73-bfde-90f5aa0675fe",
   "metadata": {},
   "outputs": [
    {
     "data": {
      "text/plain": [
       "(40, 3)"
      ]
     },
     "execution_count": 26,
     "metadata": {},
     "output_type": "execute_result"
    }
   ],
   "source": [
    "X_test.shape"
   ]
  },
  {
   "cell_type": "code",
   "execution_count": 194,
   "id": "bbfaea26-a6bc-432a-8de2-a39ec26c2287",
   "metadata": {},
   "outputs": [
    {
     "data": {
      "text/plain": [
       "79     11.0\n",
       "197    14.8\n",
       "38     10.1\n",
       "24      9.7\n",
       "122    16.6\n",
       "Name: Sales, dtype: float64"
      ]
     },
     "execution_count": 194,
     "metadata": {},
     "output_type": "execute_result"
    }
   ],
   "source": [
    "y_train.head()"
   ]
  },
  {
   "cell_type": "code",
   "execution_count": 28,
   "id": "e5f54c18-1b0b-452d-9b96-d095b6ec3048",
   "metadata": {},
   "outputs": [
    {
     "data": {
      "text/plain": [
       "(160,)"
      ]
     },
     "execution_count": 28,
     "metadata": {},
     "output_type": "execute_result"
    }
   ],
   "source": [
    "y_train.shape"
   ]
  },
  {
   "cell_type": "code",
   "execution_count": 196,
   "id": "bf362110-9379-4afe-8548-b9dbc776ce47",
   "metadata": {},
   "outputs": [
    {
     "data": {
      "text/plain": [
       "95     16.9\n",
       "15     22.4\n",
       "30     21.4\n",
       "158     7.3\n",
       "128    24.7\n",
       "Name: Sales, dtype: float64"
      ]
     },
     "execution_count": 196,
     "metadata": {},
     "output_type": "execute_result"
    }
   ],
   "source": [
    "y_test.head()"
   ]
  },
  {
   "cell_type": "code",
   "execution_count": 30,
   "id": "166f2d44-c1a9-438e-a0d5-1135bd2106d4",
   "metadata": {},
   "outputs": [
    {
     "data": {
      "text/plain": [
       "(40,)"
      ]
     },
     "execution_count": 30,
     "metadata": {},
     "output_type": "execute_result"
    }
   ],
   "source": [
    "y_test.shape"
   ]
  },
  {
   "cell_type": "markdown",
   "id": "1721be0f-232f-4f1b-8732-f0c6227f8fe7",
   "metadata": {},
   "source": [
    "# 6.Model Building\n",
    "Importing the LinearRegression class from the scikit-learn library.\r\n"
   ]
  },
  {
   "cell_type": "code",
   "execution_count": 209,
   "id": "8611a1ef-c2f4-485d-be6e-7374cbb3345b",
   "metadata": {},
   "outputs": [],
   "source": [
    "from sklearn.linear_model import LinearRegression"
   ]
  },
  {
   "cell_type": "markdown",
   "id": "fefa238c-0c1e-4ebc-953f-5d72c36bee34",
   "metadata": {},
   "source": [
    "##### This code initializes an instance of the LinearRegression model"
   ]
  },
  {
   "cell_type": "code",
   "execution_count": 214,
   "id": "4fb19c42-248c-4516-8aaa-f86cf502a798",
   "metadata": {},
   "outputs": [
    {
     "data": {
      "text/html": [
       "<style>#sk-container-id-1 {color: black;background-color: white;}#sk-container-id-1 pre{padding: 0;}#sk-container-id-1 div.sk-toggleable {background-color: white;}#sk-container-id-1 label.sk-toggleable__label {cursor: pointer;display: block;width: 100%;margin-bottom: 0;padding: 0.3em;box-sizing: border-box;text-align: center;}#sk-container-id-1 label.sk-toggleable__label-arrow:before {content: \"▸\";float: left;margin-right: 0.25em;color: #696969;}#sk-container-id-1 label.sk-toggleable__label-arrow:hover:before {color: black;}#sk-container-id-1 div.sk-estimator:hover label.sk-toggleable__label-arrow:before {color: black;}#sk-container-id-1 div.sk-toggleable__content {max-height: 0;max-width: 0;overflow: hidden;text-align: left;background-color: #f0f8ff;}#sk-container-id-1 div.sk-toggleable__content pre {margin: 0.2em;color: black;border-radius: 0.25em;background-color: #f0f8ff;}#sk-container-id-1 input.sk-toggleable__control:checked~div.sk-toggleable__content {max-height: 200px;max-width: 100%;overflow: auto;}#sk-container-id-1 input.sk-toggleable__control:checked~label.sk-toggleable__label-arrow:before {content: \"▾\";}#sk-container-id-1 div.sk-estimator input.sk-toggleable__control:checked~label.sk-toggleable__label {background-color: #d4ebff;}#sk-container-id-1 div.sk-label input.sk-toggleable__control:checked~label.sk-toggleable__label {background-color: #d4ebff;}#sk-container-id-1 input.sk-hidden--visually {border: 0;clip: rect(1px 1px 1px 1px);clip: rect(1px, 1px, 1px, 1px);height: 1px;margin: -1px;overflow: hidden;padding: 0;position: absolute;width: 1px;}#sk-container-id-1 div.sk-estimator {font-family: monospace;background-color: #f0f8ff;border: 1px dotted black;border-radius: 0.25em;box-sizing: border-box;margin-bottom: 0.5em;}#sk-container-id-1 div.sk-estimator:hover {background-color: #d4ebff;}#sk-container-id-1 div.sk-parallel-item::after {content: \"\";width: 100%;border-bottom: 1px solid gray;flex-grow: 1;}#sk-container-id-1 div.sk-label:hover label.sk-toggleable__label {background-color: #d4ebff;}#sk-container-id-1 div.sk-serial::before {content: \"\";position: absolute;border-left: 1px solid gray;box-sizing: border-box;top: 0;bottom: 0;left: 50%;z-index: 0;}#sk-container-id-1 div.sk-serial {display: flex;flex-direction: column;align-items: center;background-color: white;padding-right: 0.2em;padding-left: 0.2em;position: relative;}#sk-container-id-1 div.sk-item {position: relative;z-index: 1;}#sk-container-id-1 div.sk-parallel {display: flex;align-items: stretch;justify-content: center;background-color: white;position: relative;}#sk-container-id-1 div.sk-item::before, #sk-container-id-1 div.sk-parallel-item::before {content: \"\";position: absolute;border-left: 1px solid gray;box-sizing: border-box;top: 0;bottom: 0;left: 50%;z-index: -1;}#sk-container-id-1 div.sk-parallel-item {display: flex;flex-direction: column;z-index: 1;position: relative;background-color: white;}#sk-container-id-1 div.sk-parallel-item:first-child::after {align-self: flex-end;width: 50%;}#sk-container-id-1 div.sk-parallel-item:last-child::after {align-self: flex-start;width: 50%;}#sk-container-id-1 div.sk-parallel-item:only-child::after {width: 0;}#sk-container-id-1 div.sk-dashed-wrapped {border: 1px dashed gray;margin: 0 0.4em 0.5em 0.4em;box-sizing: border-box;padding-bottom: 0.4em;background-color: white;}#sk-container-id-1 div.sk-label label {font-family: monospace;font-weight: bold;display: inline-block;line-height: 1.2em;}#sk-container-id-1 div.sk-label-container {text-align: center;}#sk-container-id-1 div.sk-container {/* jupyter's `normalize.less` sets `[hidden] { display: none; }` but bootstrap.min.css set `[hidden] { display: none !important; }` so we also need the `!important` here to be able to override the default hidden behavior on the sphinx rendered scikit-learn.org. See: https://github.com/scikit-learn/scikit-learn/issues/21755 */display: inline-block !important;position: relative;}#sk-container-id-1 div.sk-text-repr-fallback {display: none;}</style><div id=\"sk-container-id-1\" class=\"sk-top-container\"><div class=\"sk-text-repr-fallback\"><pre>LinearRegression()</pre><b>In a Jupyter environment, please rerun this cell to show the HTML representation or trust the notebook. <br />On GitHub, the HTML representation is unable to render, please try loading this page with nbviewer.org.</b></div><div class=\"sk-container\" hidden><div class=\"sk-item\"><div class=\"sk-estimator sk-toggleable\"><input class=\"sk-toggleable__control sk-hidden--visually\" id=\"sk-estimator-id-1\" type=\"checkbox\" checked><label for=\"sk-estimator-id-1\" class=\"sk-toggleable__label sk-toggleable__label-arrow\">LinearRegression</label><div class=\"sk-toggleable__content\"><pre>LinearRegression()</pre></div></div></div></div></div>"
      ],
      "text/plain": [
       "LinearRegression()"
      ]
     },
     "execution_count": 214,
     "metadata": {},
     "output_type": "execute_result"
    }
   ],
   "source": [
    "#create the model\n",
    "lr = LinearRegression()\n",
    "# Train the model\n",
    "lr.fit(X_train, y_train)"
   ]
  },
  {
   "cell_type": "code",
   "execution_count": 216,
   "id": "2c0d71d0-cb1a-4446-9bf1-40096ee9ba15",
   "metadata": {},
   "outputs": [
    {
     "data": {
      "text/plain": [
       "array([0.05450927, 0.10094536, 0.00433665])"
      ]
     },
     "execution_count": 216,
     "metadata": {},
     "output_type": "execute_result"
    }
   ],
   "source": [
    "# It denotes the  coefficient of 'm' value\n",
    "lr.coef_"
   ]
  },
  {
   "cell_type": "code",
   "execution_count": 218,
   "id": "ec3a30d4-1ee4-4f78-ab24-365047cf11ad",
   "metadata": {},
   "outputs": [
    {
     "data": {
      "text/plain": [
       "4.714126402214136"
      ]
     },
     "execution_count": 218,
     "metadata": {},
     "output_type": "execute_result"
    }
   ],
   "source": [
    "# It denotes the 'y' value\n",
    "lr.intercept_"
   ]
  },
  {
   "cell_type": "markdown",
   "id": "b6294583-30ec-405d-b0f0-588712bc48f3",
   "metadata": {},
   "source": [
    "### Predictions"
   ]
  },
  {
   "cell_type": "code",
   "execution_count": 234,
   "id": "7e11ded4-102a-4a3b-90c8-54de115fed63",
   "metadata": {},
   "outputs": [
    {
     "data": {
      "text/plain": [
       "array([7.22972412])"
      ]
     },
     "execution_count": 234,
     "metadata": {},
     "output_type": "execute_result"
    }
   ],
   "source": [
    "lr.predict([[38.2,3.7,13.8]])"
   ]
  },
  {
   "cell_type": "code",
   "execution_count": 232,
   "id": "bf91ef95-9571-4d64-b503-273c2236fd4a",
   "metadata": {},
   "outputs": [
    {
     "data": {
      "text/plain": [
       "array([10.58560762])"
      ]
     },
     "execution_count": 232,
     "metadata": {},
     "output_type": "execute_result"
    }
   ],
   "source": [
    "lr.predict([[17.2,45.9,69.3]])"
   ]
  },
  {
   "cell_type": "markdown",
   "id": "8645d955-a32e-4c3e-bbe3-c130fde3cefa",
   "metadata": {},
   "source": [
    "##### The 'predict()' method is used to obtain the predicted values based on the input data. The color of the line is red.\n",
    "##### Finally, it sets labels for the x-axis ('Actual Sales') and y-axis ('Predicted Sales')\n"
   ]
  },
  {
   "cell_type": "code",
   "execution_count": 249,
   "id": "52ccd836-eb4e-4340-aee6-7578ad72fd8b",
   "metadata": {},
   "outputs": [
    {
     "data": {
      "image/png": "[encoded data removed]",
      "text/plain": [
       "<Figure size 600x400 with 1 Axes>"
      ]
     },
     "metadata": {},
     "output_type": "display_data"
    }
   ],
   "source": [
    "plt.figure(figsize=(6, 4))\n",
    "sns.scatterplot(x=y_test, y=y_pred)\n",
    "plt.plot([y_test.min(), y_test.max()], [y_test.min(), y_test.max()], 'k--', lw=2,color=\"red\")\n",
    "plt.xlabel('Actual Sales')\n",
    "plt.ylabel('Predicted Sales')\n",
    "plt.title('Actual vs Predicted Sales')\n",
    "plt.show()"
   ]
  },
  {
   "cell_type": "markdown",
   "id": "da6f919c-7b6f-4220-b13a-fc8e9fa8319d",
   "metadata": {},
   "source": [
    "#### In the above plot we observe that the reference line consist to predict\n"
   ]
  },
  {
   "cell_type": "markdown",
   "id": "9b294c8b-9c0c-47bf-b849-81ade29f6f8a",
   "metadata": {},
   "source": [
    "# 7.Model Evaluation"
   ]
  },
  {
   "cell_type": "code",
   "execution_count": 225,
   "id": "020bd0ef-8546-4cec-9cf1-d6a82d734a0a",
   "metadata": {},
   "outputs": [],
   "source": [
    "from sklearn.metrics import mean_absolute_error, mean_squared_error, r2_score\n",
    "\n",
    "# Make predictions on the test set\n",
    "y_pred = lr.predict(X_test)"
   ]
  },
  {
   "cell_type": "code",
   "execution_count": 256,
   "id": "b31d739c-a0cb-4016-80c3-5b482643feb4",
   "metadata": {},
   "outputs": [
    {
     "data": {
      "text/plain": [
       "array([16.9, 22.4, 21.4,  7.3, 24.7, 12.6, 22.3,  8.4, 16.5, 16.1, 11. ,\n",
       "        8.7, 16.9,  5.3, 10.3, 16.7,  5.5, 16.6, 11.3, 18.9, 19.7, 12.5,\n",
       "       10.9, 22.2, 11.3,  8.1, 21.7, 13.4, 10.6,  5.7, 15.6, 11.3, 23.7,\n",
       "        8.7, 16.1, 20.7, 11.6, 20.8, 11.9,  6.9])"
      ]
     },
     "execution_count": 256,
     "metadata": {},
     "output_type": "execute_result"
    }
   ],
   "source": [
    "y_test.values"
   ]
  },
  {
   "cell_type": "markdown",
   "id": "0d05ce0c-8e62-4e8b-946a-3ebdd311a56c",
   "metadata": {},
   "source": [
    "### 16.What are the mean absolute error, mean squared error, and R-squared values of the model?\n"
   ]
  },
  {
   "cell_type": "markdown",
   "id": "020d2ebf-87b5-40ce-b0c7-c3789c13dd53",
   "metadata": {},
   "source": [
    "### Calculate evaluation metrics"
   ]
  },
  {
   "cell_type": "markdown",
   "id": "a906a896-442a-43f7-bb78-8e6e6b68869c",
   "metadata": {},
   "source": [
    "# Mean Absolute Error(MAE):"
   ]
  },
  {
   "cell_type": "code",
   "execution_count": 262,
   "id": "09ad8845-2af9-49dc-824b-02552f288de0",
   "metadata": {},
   "outputs": [
    {
     "data": {
      "text/plain": [
       "1.2748262109549338"
      ]
     },
     "execution_count": 262,
     "metadata": {},
     "output_type": "execute_result"
    }
   ],
   "source": [
    "mean_absolute_error(y_test,y_pred)\n"
   ]
  },
  {
   "cell_type": "markdown",
   "id": "f2ac5e10-9f02-42d0-8d18-5434dfcd93c6",
   "metadata": {},
   "source": [
    "# Mean Squared Error(MSE):"
   ]
  },
  {
   "cell_type": "code",
   "execution_count": 266,
   "id": "45ddfe5c-8c13-4110-a8ca-0ad29223384c",
   "metadata": {},
   "outputs": [
    {
     "data": {
      "text/plain": [
       "2.9077569102710905"
      ]
     },
     "execution_count": 266,
     "metadata": {},
     "output_type": "execute_result"
    }
   ],
   "source": [
    "mean_squared_error(y_test, y_pred)"
   ]
  },
  {
   "cell_type": "markdown",
   "id": "40daf91d-6401-4970-a718-3c414ced81a6",
   "metadata": {},
   "source": [
    "# R-squared"
   ]
  },
  {
   "cell_type": "code",
   "execution_count": 278,
   "id": "81a298c3-9911-4317-ba3a-620c7e8be49b",
   "metadata": {},
   "outputs": [
    {
     "data": {
      "text/plain": [
       "0.9059011844150826"
      ]
     },
     "execution_count": 278,
     "metadata": {},
     "output_type": "execute_result"
    }
   ],
   "source": [
    "r2 = r2_score(y_test, y_pred)\n",
    "r2"
   ]
  },
  {
   "cell_type": "markdown",
   "id": "11cb344f-fb7e-487b-b247-9d1464372d88",
   "metadata": {},
   "source": [
    "# RMSE"
   ]
  },
  {
   "cell_type": "code",
   "execution_count": 268,
   "id": "c2200ee2-0b3b-4430-809a-f12a07150a64",
   "metadata": {},
   "outputs": [
    {
     "data": {
      "text/html": [
       "<div>\n",
       "<style scoped>\n",
       "    .dataframe tbody tr th:only-of-type {\n",
       "        vertical-align: middle;\n",
       "    }\n",
       "\n",
       "    .dataframe tbody tr th {\n",
       "        vertical-align: top;\n",
       "    }\n",
       "\n",
       "    .dataframe thead th {\n",
       "        text-align: right;\n",
       "    }\n",
       "</style>\n",
       "<table border=\"1\" class=\"dataframe\">\n",
       "  <thead>\n",
       "    <tr style=\"text-align: right;\">\n",
       "      <th></th>\n",
       "      <th>Actual (y_test)</th>\n",
       "      <th>Predicted (y_pred)</th>\n",
       "    </tr>\n",
       "  </thead>\n",
       "  <tbody>\n",
       "    <tr>\n",
       "      <th>95</th>\n",
       "      <td>16.9</td>\n",
       "      <td>17.034772</td>\n",
       "    </tr>\n",
       "    <tr>\n",
       "      <th>15</th>\n",
       "      <td>22.4</td>\n",
       "      <td>20.409740</td>\n",
       "    </tr>\n",
       "    <tr>\n",
       "      <th>30</th>\n",
       "      <td>21.4</td>\n",
       "      <td>23.723989</td>\n",
       "    </tr>\n",
       "    <tr>\n",
       "      <th>158</th>\n",
       "      <td>7.3</td>\n",
       "      <td>9.272785</td>\n",
       "    </tr>\n",
       "    <tr>\n",
       "      <th>128</th>\n",
       "      <td>24.7</td>\n",
       "      <td>21.682719</td>\n",
       "    </tr>\n",
       "  </tbody>\n",
       "</table>\n",
       "</div>"
      ],
      "text/plain": [
       "     Actual (y_test)  Predicted (y_pred)\n",
       "95              16.9           17.034772\n",
       "15              22.4           20.409740\n",
       "30              21.4           23.723989\n",
       "158              7.3            9.272785\n",
       "128             24.7           21.682719"
      ]
     },
     "execution_count": 268,
     "metadata": {},
     "output_type": "execute_result"
    }
   ],
   "source": [
    "import pandas as pd\n",
    "from sklearn.metrics import mean_squared_error\n",
    "\n",
    "#Calculate mean squared error \n",
    "MSE = mean_squared_error(y_test, y_pred) \n",
    "\n",
    "#Calculate root mean squared error \n",
    "RMSE = MSE ** 0.5 \n",
    "\n",
    "#Create a DataFrame to show y test and y_pred \n",
    "data_rmse = {'Actual (y_test)': y_test, 'Predicted (y_pred)': y_pred} \n",
    "df_rmse = pd.DataFrame(data_rmse)\n",
    "\n",
    "#Display the DataFrame and RMSE\n",
    "df_rmse.head()"
   ]
  },
  {
   "cell_type": "markdown",
   "id": "f2151757-1279-4357-a27a-148bac5ca406",
   "metadata": {},
   "source": [
    "# REPORT"
   ]
  },
  {
   "cell_type": "markdown",
   "id": "967911b8-75de-4e83-88c0-4cc9cb340064",
   "metadata": {},
   "source": [
    "###### 1.200 data points are there in the dataset.\n",
    "###### 2.There are zero missing values in the dataset. \n",
    "###### 3.The mean and median of sales in the dataset are mean = 15 ,median = 16.\n",
    "###### 4.The mean and median of TV in the dataset are mean = 147 ,median = 149.\n",
    "###### 5.The mean and median of Radio in the dataset are mean = 23 ,median = 22.\n",
    "###### 6.The mean and median of Newspaper in the dataset are mean = 30 ,median = 25. \n",
    "###### 7.The range of the Radio advertising expenditure in the dataset is 49.\n",
    "###### 8.The range of the Newspaper advertising expenditure in the dataset is 113.\n",
    "###### 9.The range of the TV advertising expenditure in the dataset is 295.\n",
    "###### 10.The Scatter type of plot shows the relationship between TV advertising and sales.\n",
    "###### 11.The Histogram type of plot shows the distribution of radio advertising expenditure.\n",
    "###### 12.The Boxplot type of plot identifies outliers in newspaper advertising expenditure.\n",
    "###### 13.The average amount of money spent on TV advertising is 147.\n",
    "###### 14.The maximum amount of money spent on Radio advertising is 49.\n",
    "###### 15.The minimum amount of money spent on Newspaper advertising is 30.\n",
    "###### 16.The model of the mean absolute error= 1.27, mean squared error= 2.9, and R-squared values= 0.9.\n"
   ]
  },
  {
   "cell_type": "markdown",
   "id": "d92f9aed-6050-4c1d-91dd-f004851650fb",
   "metadata": {},
   "source": [
    "# Summary: Predicting Sales Based on Advertising Spend\n",
    "The advertising dataset includes data on TV, Radio, and Newspaper advertising expenditures and their impact on sales. It helps in understanding and\n",
    "predicting how advertising spend influences sales outcomes.\n",
    "## Key Insights:\n",
    "TV and Radio advertising expenditures are positively correlated with sales,\n",
    "Newspaper advertising has a weaker correlation with sales,\n",
    "Scatter plots of Sales vs. TV, Radio, and Newspaper spend illustrate these relationships,\n",
    "Correlation heatmaps highlight the strength of these relationships,\n",
    "Hence,This dataset is useful for building predictive models to estimate sales from advertising spend, aiding in effective budget allocation."
   ]
  },
  {
   "cell_type": "markdown",
   "id": "7a815752-acd7-405b-9aa9-c9ee3c7ef8e7",
   "metadata": {},
   "source": [
    "THE END"
   ]
  },
  {
   "cell_type": "markdown",
   "id": "5975bc40-1306-4b34-a3bd-ec4248a5a945",
   "metadata": {},
   "source": [
    "                                                               THANK YOU"
   ]
  }
 ],
 "metadata": {
  "kernelspec": {
   "display_name": "Python 3 (ipykernel)",
   "language": "python",
   "name": "python3"
  },
  "language_info": {
   "codemirror_mode": {
    "name": "ipython",
    "version": 3
   },
   "file_extension": ".py",
   "mimetype": "text/x-python",
   "name": "python",
   "nbconvert_exporter": "python",
   "pygments_lexer": "ipython3",
   "version": "3.11.7"
  }
 },
 "nbformat": 4,
 "nbformat_minor": 5
}
